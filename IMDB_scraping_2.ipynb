{
 "cells": [
  {
   "cell_type": "code",
   "execution_count": 1,
   "metadata": {
    "collapsed": true
   },
   "outputs": [],
   "source": [
    "import requests\n",
    "from bs4 import BeautifulSoup\n",
    "import pandas as pd"
   ]
  },
  {
   "cell_type": "code",
   "execution_count": 2,
   "outputs": [],
   "source": [
    "headers = {\n",
    "    \"User-Agent\": \"Mozilla/5.0 (Windows NT 10.0; Win64; x64) AppleWebKit/537.36 (KHTML, like Gecko) Chrome/74.0.3729.157 Safari/537.36\",\n",
    "    \"Accept-Language\": \"en-GB,en-US;q=0.9,en;q=0.8,hu;q=0.7\",\n",
    "    \"Referer\": \"https://google.com\",\n",
    "    \"DNT\": \"1\"\n",
    "}"
   ],
   "metadata": {
    "collapsed": false
   }
  },
  {
   "cell_type": "code",
   "execution_count": 3,
   "outputs": [],
   "source": [
    "url = 'https://www.imdb.com/search/title/?groups=top_100&sort=user_rating,desc'\n",
    "response = requests.get(url, headers=headers)"
   ],
   "metadata": {
    "collapsed": false
   }
  },
  {
   "cell_type": "code",
   "execution_count": 4,
   "outputs": [],
   "source": [
    "soup = BeautifulSoup(response.text, 'html.parser')\n",
    "movie_containers = soup.find_all('div', class_='lister-item-content')"
   ],
   "metadata": {
    "collapsed": false
   }
  },
  {
   "cell_type": "code",
   "execution_count": 5,
   "outputs": [],
   "source": [
    "# extract movie title and URL\n",
    "top_20_urls = []\n",
    "top_20_names = []\n",
    "for movie in movie_containers [0:5]:\n",
    "    header = movie.find('h3', class_='lister-item-header')\n",
    "    title = header.a.text\n",
    "    movie_url = 'https://www.imdb.com' + header.a['href']\n",
    "    top_20_urls.append(movie_url)\n",
    "    top_20_names.append(title)\n",
    "#top_20_names"
   ],
   "metadata": {
    "collapsed": false
   }
  },
  {
   "cell_type": "code",
   "execution_count": 6,
   "outputs": [],
   "source": [
    "# extract ratings\n",
    "top_20_rating = []\n",
    "for movie in movie_containers [0:5]:\n",
    "    rating = float(movie.find('div', class_='inline-block ratings-imdb-rating').text.strip())\n",
    "    top_20_rating.append(rating)\n",
    "#top_20_rating"
   ],
   "metadata": {
    "collapsed": false
   }
  },
  {
   "cell_type": "code",
   "execution_count": 7,
   "outputs": [],
   "source": [
    "# extract number of raters\n",
    "top_20_rater = []\n",
    "for movie in movie_containers [0:5]:\n",
    "    num_raters = movie.find('span', attrs={'name': 'nv'}).text\n",
    "    num_raters = int(num_raters.replace(',', ''))\n",
    "    top_20_rater.append(num_raters)\n",
    "#top_20_rater"
   ],
   "metadata": {
    "collapsed": false
   }
  },
  {
   "cell_type": "code",
   "execution_count": 8,
   "outputs": [],
   "source": [
    "def get_num_oscars(top_20_urls):\n",
    "    num_oscars = []\n",
    "\n",
    "    for url in top_20_urls:\n",
    "        # Format the URL to include the \"awards\" path\n",
    "        award_url = url.replace(\"?ref_=adv_li_tt\", \"awards\")\n",
    "\n",
    "        # Get the HTML content of the URL\n",
    "        response = requests.get(award_url, headers=headers)\n",
    "        html_content = response.text\n",
    "\n",
    "        # Parse the HTML content using BeautifulSoup\n",
    "        soup = BeautifulSoup(html_content, 'html.parser')\n",
    "\n",
    "        # Find all the award items with category \"Oscar\" and outcome \"Winner\"\n",
    "        oscar_winners = soup.find_all('td', class_='title_award_outcome')\n",
    "        oscar_winners = [ow for ow in oscar_winners if ow.find('span', class_='award_category').text == 'Oscar' and ow.find('b').text == 'Winner']\n",
    "\n",
    "        # Get the number of Oscars won by the movie\n",
    "        if len(oscar_winners) > 0:\n",
    "            num_oscar = int(oscar_winners[0]['rowspan'])\n",
    "        else:\n",
    "            num_oscar = 0\n",
    "\n",
    "        num_oscars.append(num_oscar)\n",
    "\n",
    "    return num_oscars\n"
   ],
   "metadata": {
    "collapsed": false
   }
  },
  {
   "cell_type": "code",
   "execution_count": 9,
   "outputs": [
    {
     "ename": "MissingSchema",
     "evalue": "Invalid URL 'h': No scheme supplied. Perhaps you meant http://h?",
     "output_type": "error",
     "traceback": [
      "\u001B[0;31m---------------------------------------------------------------------------\u001B[0m",
      "\u001B[0;31mMissingSchema\u001B[0m                             Traceback (most recent call last)",
      "\u001B[0;32m/var/folders/yc/141x14s57bjfkx02rn95n93r0000gn/T/ipykernel_28572/502560858.py\u001B[0m in \u001B[0;36m<module>\u001B[0;34m\u001B[0m\n\u001B[1;32m      1\u001B[0m \u001B[0mtop_20_oscar\u001B[0m \u001B[0;34m=\u001B[0m \u001B[0;34m[\u001B[0m\u001B[0;34m]\u001B[0m\u001B[0;34m\u001B[0m\u001B[0;34m\u001B[0m\u001B[0m\n\u001B[1;32m      2\u001B[0m \u001B[0;32mfor\u001B[0m \u001B[0mmovie_url\u001B[0m \u001B[0;32min\u001B[0m \u001B[0mtop_20_urls\u001B[0m\u001B[0;34m:\u001B[0m\u001B[0;34m\u001B[0m\u001B[0;34m\u001B[0m\u001B[0m\n\u001B[0;32m----> 3\u001B[0;31m     \u001B[0mnum_oscars\u001B[0m \u001B[0;34m=\u001B[0m \u001B[0mget_num_oscars\u001B[0m\u001B[0;34m(\u001B[0m\u001B[0mmovie_url\u001B[0m\u001B[0;34m)\u001B[0m\u001B[0;34m\u001B[0m\u001B[0;34m\u001B[0m\u001B[0m\n\u001B[0m\u001B[1;32m      4\u001B[0m     \u001B[0mtop_20_oscar\u001B[0m\u001B[0;34m.\u001B[0m\u001B[0mappend\u001B[0m\u001B[0;34m(\u001B[0m\u001B[0mnum_oscars\u001B[0m\u001B[0;34m)\u001B[0m\u001B[0;34m\u001B[0m\u001B[0;34m\u001B[0m\u001B[0m\n\u001B[1;32m      5\u001B[0m \u001B[0;34m\u001B[0m\u001B[0m\n",
      "\u001B[0;32m/var/folders/yc/141x14s57bjfkx02rn95n93r0000gn/T/ipykernel_28572/2125901803.py\u001B[0m in \u001B[0;36mget_num_oscars\u001B[0;34m(top_20_urls)\u001B[0m\n\u001B[1;32m      7\u001B[0m         \u001B[0maward_url\u001B[0m \u001B[0;34m=\u001B[0m \u001B[0murl\u001B[0m\u001B[0;34m.\u001B[0m\u001B[0mreplace\u001B[0m\u001B[0;34m(\u001B[0m\u001B[0;34m\"?ref_=adv_li_tt\"\u001B[0m\u001B[0;34m,\u001B[0m \u001B[0;34m\"awards\"\u001B[0m\u001B[0;34m)\u001B[0m\u001B[0;34m\u001B[0m\u001B[0;34m\u001B[0m\u001B[0m\n\u001B[1;32m      8\u001B[0m         \u001B[0;31m# Get the HTML content of the URL\u001B[0m\u001B[0;34m\u001B[0m\u001B[0;34m\u001B[0m\u001B[0m\n\u001B[0;32m----> 9\u001B[0;31m         \u001B[0mresponse\u001B[0m \u001B[0;34m=\u001B[0m \u001B[0mrequests\u001B[0m\u001B[0;34m.\u001B[0m\u001B[0mget\u001B[0m\u001B[0;34m(\u001B[0m\u001B[0maward_url\u001B[0m\u001B[0;34m)\u001B[0m\u001B[0;34m\u001B[0m\u001B[0;34m\u001B[0m\u001B[0m\n\u001B[0m\u001B[1;32m     10\u001B[0m         \u001B[0mhtml_content\u001B[0m \u001B[0;34m=\u001B[0m \u001B[0mresponse\u001B[0m\u001B[0;34m.\u001B[0m\u001B[0mtext\u001B[0m\u001B[0;34m\u001B[0m\u001B[0;34m\u001B[0m\u001B[0m\n\u001B[1;32m     11\u001B[0m \u001B[0;34m\u001B[0m\u001B[0m\n",
      "\u001B[0;32m~/opt/anaconda3/lib/python3.9/site-packages/requests/api.py\u001B[0m in \u001B[0;36mget\u001B[0;34m(url, params, **kwargs)\u001B[0m\n\u001B[1;32m     71\u001B[0m     \"\"\"\n\u001B[1;32m     72\u001B[0m \u001B[0;34m\u001B[0m\u001B[0m\n\u001B[0;32m---> 73\u001B[0;31m     \u001B[0;32mreturn\u001B[0m \u001B[0mrequest\u001B[0m\u001B[0;34m(\u001B[0m\u001B[0;34m\"get\"\u001B[0m\u001B[0;34m,\u001B[0m \u001B[0murl\u001B[0m\u001B[0;34m,\u001B[0m \u001B[0mparams\u001B[0m\u001B[0;34m=\u001B[0m\u001B[0mparams\u001B[0m\u001B[0;34m,\u001B[0m \u001B[0;34m**\u001B[0m\u001B[0mkwargs\u001B[0m\u001B[0;34m)\u001B[0m\u001B[0;34m\u001B[0m\u001B[0;34m\u001B[0m\u001B[0m\n\u001B[0m\u001B[1;32m     74\u001B[0m \u001B[0;34m\u001B[0m\u001B[0m\n\u001B[1;32m     75\u001B[0m \u001B[0;34m\u001B[0m\u001B[0m\n",
      "\u001B[0;32m~/opt/anaconda3/lib/python3.9/site-packages/requests/api.py\u001B[0m in \u001B[0;36mrequest\u001B[0;34m(method, url, **kwargs)\u001B[0m\n\u001B[1;32m     57\u001B[0m     \u001B[0;31m# cases, and look like a memory leak in others.\u001B[0m\u001B[0;34m\u001B[0m\u001B[0;34m\u001B[0m\u001B[0m\n\u001B[1;32m     58\u001B[0m     \u001B[0;32mwith\u001B[0m \u001B[0msessions\u001B[0m\u001B[0;34m.\u001B[0m\u001B[0mSession\u001B[0m\u001B[0;34m(\u001B[0m\u001B[0;34m)\u001B[0m \u001B[0;32mas\u001B[0m \u001B[0msession\u001B[0m\u001B[0;34m:\u001B[0m\u001B[0;34m\u001B[0m\u001B[0;34m\u001B[0m\u001B[0m\n\u001B[0;32m---> 59\u001B[0;31m         \u001B[0;32mreturn\u001B[0m \u001B[0msession\u001B[0m\u001B[0;34m.\u001B[0m\u001B[0mrequest\u001B[0m\u001B[0;34m(\u001B[0m\u001B[0mmethod\u001B[0m\u001B[0;34m=\u001B[0m\u001B[0mmethod\u001B[0m\u001B[0;34m,\u001B[0m \u001B[0murl\u001B[0m\u001B[0;34m=\u001B[0m\u001B[0murl\u001B[0m\u001B[0;34m,\u001B[0m \u001B[0;34m**\u001B[0m\u001B[0mkwargs\u001B[0m\u001B[0;34m)\u001B[0m\u001B[0;34m\u001B[0m\u001B[0;34m\u001B[0m\u001B[0m\n\u001B[0m\u001B[1;32m     60\u001B[0m \u001B[0;34m\u001B[0m\u001B[0m\n\u001B[1;32m     61\u001B[0m \u001B[0;34m\u001B[0m\u001B[0m\n",
      "\u001B[0;32m~/opt/anaconda3/lib/python3.9/site-packages/requests/sessions.py\u001B[0m in \u001B[0;36mrequest\u001B[0;34m(self, method, url, params, data, headers, cookies, files, auth, timeout, allow_redirects, proxies, hooks, stream, verify, cert, json)\u001B[0m\n\u001B[1;32m    571\u001B[0m             \u001B[0mhooks\u001B[0m\u001B[0;34m=\u001B[0m\u001B[0mhooks\u001B[0m\u001B[0;34m,\u001B[0m\u001B[0;34m\u001B[0m\u001B[0;34m\u001B[0m\u001B[0m\n\u001B[1;32m    572\u001B[0m         )\n\u001B[0;32m--> 573\u001B[0;31m         \u001B[0mprep\u001B[0m \u001B[0;34m=\u001B[0m \u001B[0mself\u001B[0m\u001B[0;34m.\u001B[0m\u001B[0mprepare_request\u001B[0m\u001B[0;34m(\u001B[0m\u001B[0mreq\u001B[0m\u001B[0;34m)\u001B[0m\u001B[0;34m\u001B[0m\u001B[0;34m\u001B[0m\u001B[0m\n\u001B[0m\u001B[1;32m    574\u001B[0m \u001B[0;34m\u001B[0m\u001B[0m\n\u001B[1;32m    575\u001B[0m         \u001B[0mproxies\u001B[0m \u001B[0;34m=\u001B[0m \u001B[0mproxies\u001B[0m \u001B[0;32mor\u001B[0m \u001B[0;34m{\u001B[0m\u001B[0;34m}\u001B[0m\u001B[0;34m\u001B[0m\u001B[0;34m\u001B[0m\u001B[0m\n",
      "\u001B[0;32m~/opt/anaconda3/lib/python3.9/site-packages/requests/sessions.py\u001B[0m in \u001B[0;36mprepare_request\u001B[0;34m(self, request)\u001B[0m\n\u001B[1;32m    482\u001B[0m \u001B[0;34m\u001B[0m\u001B[0m\n\u001B[1;32m    483\u001B[0m         \u001B[0mp\u001B[0m \u001B[0;34m=\u001B[0m \u001B[0mPreparedRequest\u001B[0m\u001B[0;34m(\u001B[0m\u001B[0;34m)\u001B[0m\u001B[0;34m\u001B[0m\u001B[0;34m\u001B[0m\u001B[0m\n\u001B[0;32m--> 484\u001B[0;31m         p.prepare(\n\u001B[0m\u001B[1;32m    485\u001B[0m             \u001B[0mmethod\u001B[0m\u001B[0;34m=\u001B[0m\u001B[0mrequest\u001B[0m\u001B[0;34m.\u001B[0m\u001B[0mmethod\u001B[0m\u001B[0;34m.\u001B[0m\u001B[0mupper\u001B[0m\u001B[0;34m(\u001B[0m\u001B[0;34m)\u001B[0m\u001B[0;34m,\u001B[0m\u001B[0;34m\u001B[0m\u001B[0;34m\u001B[0m\u001B[0m\n\u001B[1;32m    486\u001B[0m             \u001B[0murl\u001B[0m\u001B[0;34m=\u001B[0m\u001B[0mrequest\u001B[0m\u001B[0;34m.\u001B[0m\u001B[0murl\u001B[0m\u001B[0;34m,\u001B[0m\u001B[0;34m\u001B[0m\u001B[0;34m\u001B[0m\u001B[0m\n",
      "\u001B[0;32m~/opt/anaconda3/lib/python3.9/site-packages/requests/models.py\u001B[0m in \u001B[0;36mprepare\u001B[0;34m(self, method, url, headers, files, data, params, auth, cookies, hooks, json)\u001B[0m\n\u001B[1;32m    366\u001B[0m \u001B[0;34m\u001B[0m\u001B[0m\n\u001B[1;32m    367\u001B[0m         \u001B[0mself\u001B[0m\u001B[0;34m.\u001B[0m\u001B[0mprepare_method\u001B[0m\u001B[0;34m(\u001B[0m\u001B[0mmethod\u001B[0m\u001B[0;34m)\u001B[0m\u001B[0;34m\u001B[0m\u001B[0;34m\u001B[0m\u001B[0m\n\u001B[0;32m--> 368\u001B[0;31m         \u001B[0mself\u001B[0m\u001B[0;34m.\u001B[0m\u001B[0mprepare_url\u001B[0m\u001B[0;34m(\u001B[0m\u001B[0murl\u001B[0m\u001B[0;34m,\u001B[0m \u001B[0mparams\u001B[0m\u001B[0;34m)\u001B[0m\u001B[0;34m\u001B[0m\u001B[0;34m\u001B[0m\u001B[0m\n\u001B[0m\u001B[1;32m    369\u001B[0m         \u001B[0mself\u001B[0m\u001B[0;34m.\u001B[0m\u001B[0mprepare_headers\u001B[0m\u001B[0;34m(\u001B[0m\u001B[0mheaders\u001B[0m\u001B[0;34m)\u001B[0m\u001B[0;34m\u001B[0m\u001B[0;34m\u001B[0m\u001B[0m\n\u001B[1;32m    370\u001B[0m         \u001B[0mself\u001B[0m\u001B[0;34m.\u001B[0m\u001B[0mprepare_cookies\u001B[0m\u001B[0;34m(\u001B[0m\u001B[0mcookies\u001B[0m\u001B[0;34m)\u001B[0m\u001B[0;34m\u001B[0m\u001B[0;34m\u001B[0m\u001B[0m\n",
      "\u001B[0;32m~/opt/anaconda3/lib/python3.9/site-packages/requests/models.py\u001B[0m in \u001B[0;36mprepare_url\u001B[0;34m(self, url, params)\u001B[0m\n\u001B[1;32m    437\u001B[0m \u001B[0;34m\u001B[0m\u001B[0m\n\u001B[1;32m    438\u001B[0m         \u001B[0;32mif\u001B[0m \u001B[0;32mnot\u001B[0m \u001B[0mscheme\u001B[0m\u001B[0;34m:\u001B[0m\u001B[0;34m\u001B[0m\u001B[0;34m\u001B[0m\u001B[0m\n\u001B[0;32m--> 439\u001B[0;31m             raise MissingSchema(\n\u001B[0m\u001B[1;32m    440\u001B[0m                 \u001B[0;34mf\"Invalid URL {url!r}: No scheme supplied. \"\u001B[0m\u001B[0;34m\u001B[0m\u001B[0;34m\u001B[0m\u001B[0m\n\u001B[1;32m    441\u001B[0m                 \u001B[0;34mf\"Perhaps you meant http://{url}?\"\u001B[0m\u001B[0;34m\u001B[0m\u001B[0;34m\u001B[0m\u001B[0m\n",
      "\u001B[0;31mMissingSchema\u001B[0m: Invalid URL 'h': No scheme supplied. Perhaps you meant http://h?"
     ]
    }
   ],
   "source": [
    "top_20_oscar = []\n",
    "for movie_url in top_20_urls:\n",
    "    num_oscars = get_num_oscars(movie_url)\n",
    "    top_20_oscar.append(num_oscars)\n"
   ],
   "metadata": {
    "collapsed": false
   }
  },
  {
   "cell_type": "code",
   "execution_count": null,
   "outputs": [],
   "source": [
    "top_20_oscar"
   ],
   "metadata": {
    "collapsed": false
   }
  },
  {
   "cell_type": "code",
   "execution_count": null,
   "outputs": [],
   "source": [
    "top_20_urls"
   ],
   "metadata": {
    "collapsed": false
   }
  },
  {
   "cell_type": "code",
   "execution_count": null,
   "outputs": [],
   "source": [
    "get_num_oscars('https://www.imdb.com/title/tt0167260/?ref_=adv_li_tt')"
   ],
   "metadata": {
    "collapsed": false
   }
  },
  {
   "cell_type": "code",
   "execution_count": null,
   "outputs": [],
   "source": [],
   "metadata": {
    "collapsed": false
   }
  },
  {
   "cell_type": "code",
   "execution_count": null,
   "outputs": [],
   "source": [],
   "metadata": {
    "collapsed": false
   }
  },
  {
   "cell_type": "code",
   "execution_count": null,
   "outputs": [],
   "source": [
    "top_20_oscar = []\n",
    "oscar_points = []\n",
    "for oscar in top_20_oscar [0:5]:\n",
    "    if oscar == 1 or oscar == 2:\n",
    "        oscar_points.append(0.3)\n",
    "    elif oscar == 3 or oscar == 4 or oscar == 5:\n",
    "        oscar_points.append(0.5)\n",
    "    elif oscar >= 6 and oscar <= 10:\n",
    "        oscar_points.append(1)\n",
    "    elif oscar > 10:\n",
    "        oscar_points.append(1.5)\n",
    "    else:\n",
    "        oscar_points.append(0)"
   ],
   "metadata": {
    "collapsed": false
   }
  },
  {
   "cell_type": "code",
   "execution_count": null,
   "outputs": [],
   "source": [
    "oscar_points"
   ],
   "metadata": {
    "collapsed": false
   }
  },
  {
   "cell_type": "code",
   "execution_count": null,
   "outputs": [],
   "source": [
    "# Find highest number of raters\n",
    "max_raters = max(top_20_rater)\n",
    "\n",
    "# Calculate 0.1 point deduction for every 100,000 difference in raters from the maximum\n",
    "point_deduction = 0.1 * (top_20_rater - max_raters) / 100000\n",
    "\n",
    "# Round point deduction to one decimal point\n",
    "point_deduction = [round(p, 1) for p in point_deduction]\n",
    "\n",
    "# Add new points column to table\n",
    "table.append(new_points)"
   ],
   "metadata": {
    "collapsed": false
   }
  },
  {
   "cell_type": "code",
   "execution_count": null,
   "outputs": [],
   "source": [
    "# Combine the data into a single table\n",
    "data = {'url': top_20_urls, 'name': top_20_names, 'rating': top_20_rating, 'rater': top_20_rater, 'oscars': top_20_oscar}\n",
    "df = pd.DataFrame(data)\n",
    "\n",
    "# Create an Excel writer\n",
    "writer = pd.ExcelWriter('Datapao_IMDB_scraper.xlsx')\n",
    "\n",
    "# Write the data to a sheet\n",
    "df.to_excel(writer, index=False, sheet_name='Top Movies')\n",
    "\n",
    "# Save the file\n",
    "writer.save()\n"
   ],
   "metadata": {
    "collapsed": false
   }
  }
 ],
 "metadata": {
  "kernelspec": {
   "display_name": "Python 3",
   "language": "python",
   "name": "python3"
  },
  "language_info": {
   "codemirror_mode": {
    "name": "ipython",
    "version": 2
   },
   "file_extension": ".py",
   "mimetype": "text/x-python",
   "name": "python",
   "nbconvert_exporter": "python",
   "pygments_lexer": "ipython2",
   "version": "2.7.6"
  }
 },
 "nbformat": 4,
 "nbformat_minor": 0
}

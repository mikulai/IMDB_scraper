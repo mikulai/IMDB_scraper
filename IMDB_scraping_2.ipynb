{
 "cells": [
  {
   "cell_type": "code",
   "execution_count": 1,
   "metadata": {
    "collapsed": true
   },
   "outputs": [],
   "source": [
    "#import the required libraries\n",
    "import requests\n",
    "from bs4 import BeautifulSoup\n",
    "import pandas as pd"
   ]
  },
  {
   "cell_type": "code",
   "execution_count": 2,
   "outputs": [],
   "source": [
    "#set the browser to receive the results in English\n",
    "headers = {\n",
    "    \"User-Agent\": \"Mozilla/5.0 (Windows NT 10.0; Win64; x64) AppleWebKit/537.36 (KHTML, like Gecko) Chrome/74.0.3729.157 Safari/537.36\",\n",
    "    \"Accept-Language\": \"en-GB,en-US;q=0.9,en;q=0.8,hu;q=0.7\",\n",
    "    \"Referer\": \"https://google.com\",\n",
    "    \"DNT\": \"1\"\n",
    "}"
   ],
   "metadata": {
    "collapsed": false
   }
  },
  {
   "cell_type": "code",
   "execution_count": 3,
   "outputs": [],
   "source": [
    "#load the target URL\n",
    "url = 'https://www.imdb.com/search/title/?groups=top_100&sort=user_rating,desc'\n",
    "response = requests.get(url, headers=headers)"
   ],
   "metadata": {
    "collapsed": false
   }
  },
  {
   "cell_type": "code",
   "execution_count": 4,
   "outputs": [],
   "source": [
    "#parse the HTML text into searchable text\n",
    "soup = BeautifulSoup(response.text, 'html.parser')\n",
    "movie_containers = soup.find_all('div', class_='lister-item-content')"
   ],
   "metadata": {
    "collapsed": false
   }
  },
  {
   "cell_type": "code",
   "execution_count": 5,
   "outputs": [],
   "source": [
    "# extract movie titles and URL's\n",
    "top_20_urls = []\n",
    "top_20_names = []\n",
    "for movie in movie_containers [0:20]:\n",
    "    header = movie.find('h3', class_='lister-item-header')\n",
    "    title = header.a.text\n",
    "    movie_url = 'https://www.imdb.com' + header.a['href']\n",
    "    top_20_urls.append(movie_url)\n",
    "    top_20_names.append(title)"
   ],
   "metadata": {
    "collapsed": false
   }
  },
  {
   "cell_type": "code",
   "execution_count": 6,
   "outputs": [],
   "source": [
    "# extract ratings of the movies\n",
    "top_20_rating = []\n",
    "for movie in movie_containers [0:20]:\n",
    "    rating = float(movie.find('div', class_='inline-block ratings-imdb-rating').text.strip())\n",
    "    top_20_rating.append(rating)"
   ],
   "metadata": {
    "collapsed": false
   }
  },
  {
   "cell_type": "code",
   "execution_count": 7,
   "outputs": [],
   "source": [
    "# extract number of raters\n",
    "top_20_rater = []\n",
    "for movie in movie_containers [0:20]:\n",
    "    num_raters = movie.find('span', attrs={'name': 'nv'}).text\n",
    "    num_raters = int(num_raters.replace(',', ''))\n",
    "    top_20_rater.append(num_raters)"
   ],
   "metadata": {
    "collapsed": false
   }
  },
  {
   "cell_type": "code",
   "execution_count": 8,
   "outputs": [],
   "source": [
    "#create the function which locates the award's tab of the movie and find out how many wins are there, based on the number of lines of the table.\n",
    "#later it may be extended with the nominations as well, as it could indicate value as well.\n",
    "def get_num_oscars(url):\n",
    "    # Get the new page of the URL\n",
    "    award_url = url.replace(\"?ref_=adv_li_tt\", \"awards\")\n",
    "\n",
    "    # Get the HTML content of the URL\n",
    "    response = requests.get(award_url, headers=headers)\n",
    "    html_content = response.text\n",
    "\n",
    "    # Parse the HTML content using BeautifulSoup\n",
    "    soup = BeautifulSoup(html_content, 'html.parser')\n",
    "\n",
    "    # Find all the award items with category \"Oscar\" and outcome \"Winner\"\n",
    "    oscar_winners = soup.find_all('td', class_='title_award_outcome')\n",
    "    oscar_winners = [ow for ow in oscar_winners if ow.find('span', class_='award_category').text == 'Oscar' and ow.find('b').text == 'Winner']\n",
    "\n",
    "    # Get the number of Oscars won by the movie\n",
    "    if len(oscar_winners) > 0:\n",
    "        num_oscars = int(oscar_winners[0]['rowspan'])\n",
    "    else:\n",
    "        num_oscars = 0\n",
    "\n",
    "    return num_oscars"
   ],
   "metadata": {
    "collapsed": false
   }
  },
  {
   "cell_type": "code",
   "execution_count": 9,
   "outputs": [],
   "source": [
    "#use the oscar finder funcion and store the actual values\n",
    "top_20_oscar = []\n",
    "for url in top_20_urls:\n",
    "    oscarnumber = get_num_oscars(url)\n",
    "    top_20_oscar.append(oscarnumber)"
   ],
   "metadata": {
    "collapsed": false
   }
  },
  {
   "cell_type": "code",
   "execution_count": 10,
   "outputs": [],
   "source": [
    "#calculate the bonus points for the won oscars\n",
    "oscar_points = []\n",
    "for oscar in top_20_oscar [0:20]:\n",
    "    if oscar == 1 or oscar == 2:\n",
    "        oscar_points.append(0.3)\n",
    "    elif oscar == 3 or oscar == 4 or oscar == 5:\n",
    "        oscar_points.append(0.5)\n",
    "    elif oscar >= 6 and oscar <= 10:\n",
    "        oscar_points.append(1)\n",
    "    elif oscar > 10:\n",
    "        oscar_points.append(1.5)\n",
    "    else:\n",
    "        oscar_points.append(0)"
   ],
   "metadata": {
    "collapsed": false
   }
  },
  {
   "cell_type": "code",
   "execution_count": 11,
   "outputs": [],
   "source": [
    "# calculate the negative points for the smaller amount of raters\n",
    "max_raters = max(top_20_rater)\n",
    "point_deduction = [0.1 * (raters - max_raters) / 100000 for raters in top_20_rater]\n",
    "point_deduction = [round(p, 1) for p in point_deduction]"
   ],
   "metadata": {
    "collapsed": false
   }
  },
  {
   "cell_type": "code",
   "execution_count": 12,
   "outputs": [],
   "source": [
    "# calculate the new rating of the movie, based on the number of oscars and the amount of raters\n",
    "new_points = [top + oscar + deduction for top, oscar, deduction in zip(top_20_rating, oscar_points, point_deduction)]"
   ],
   "metadata": {
    "collapsed": false
   }
  },
  {
   "cell_type": "code",
   "execution_count": 18,
   "outputs": [
    {
     "data": {
      "text/plain": "                                                  url  \\\n0   https://www.imdb.com/title/tt0111161/?ref_=adv...   \n1   https://www.imdb.com/title/tt0068646/?ref_=adv...   \n2   https://www.imdb.com/title/tt0468569/?ref_=adv...   \n3   https://www.imdb.com/title/tt0071562/?ref_=adv...   \n4   https://www.imdb.com/title/tt0108052/?ref_=adv...   \n5   https://www.imdb.com/title/tt0050083/?ref_=adv...   \n6   https://www.imdb.com/title/tt0167260/?ref_=adv...   \n7   https://www.imdb.com/title/tt0110912/?ref_=adv...   \n8   https://www.imdb.com/title/tt0120737/?ref_=adv...   \n9   https://www.imdb.com/title/tt1375666/?ref_=adv...   \n10  https://www.imdb.com/title/tt0137523/?ref_=adv...   \n11  https://www.imdb.com/title/tt0109830/?ref_=adv...   \n12  https://www.imdb.com/title/tt0167261/?ref_=adv...   \n13  https://www.imdb.com/title/tt0060196/?ref_=adv...   \n14  https://www.imdb.com/title/tt0099685/?ref_=adv...   \n15  https://www.imdb.com/title/tt0073486/?ref_=adv...   \n16  https://www.imdb.com/title/tt0133093/?ref_=adv...   \n17  https://www.imdb.com/title/tt0080684/?ref_=adv...   \n18  https://www.imdb.com/title/tt0816692/?ref_=adv...   \n19  https://www.imdb.com/title/tt0102926/?ref_=adv...   \n\n                                                 name  rating  \\\n0                            The Shawshank Redemption     9.3   \n1                                       The Godfather     9.2   \n2                                     The Dark Knight     9.0   \n3                               The Godfather Part II     9.0   \n4                                    Schindler's List     9.0   \n5                                        12 Angry Men     9.0   \n6       The Lord of the Rings: The Return of the King     9.0   \n7                                        Pulp Fiction     8.9   \n8   The Lord of the Rings: The Fellowship of the Ring     8.8   \n9                                           Inception     8.8   \n10                                         Fight Club     8.8   \n11                                       Forrest Gump     8.8   \n12              The Lord of the Rings: The Two Towers     8.8   \n13                     The Good, the Bad and the Ugly     8.8   \n14                                         GoodFellas     8.7   \n15                    One Flew Over the Cuckoo's Nest     8.7   \n16                                         The Matrix     8.7   \n17     Star Wars: Episode V - The Empire Strikes Back     8.7   \n18                                       Interstellar     8.6   \n19                           The Silence of the Lambs     8.6   \n\n    Number of raters  oscars  oscar extra point  point deduction for raters  \\\n0            2704345       0                0.0                         0.0   \n1            1877746       3                0.5                        -0.8   \n2            2678106       2                0.3                        -0.0   \n3            1282538       6                1.0                        -1.4   \n4            1366837       7                1.0                        -1.3   \n5             798911       0                0.0                        -1.9   \n6            1861945      11                1.5                        -0.8   \n7            2076221       1                0.3                        -0.6   \n8            1891368       4                0.5                        -0.8   \n9            2376081       4                0.5                        -0.3   \n10           2149098       0                0.0                        -0.6   \n11           2101149       6                1.0                        -0.6   \n12           1681243       2                0.3                        -1.0   \n13            767955       0                0.0                        -1.9   \n14           1173086       1                0.3                        -1.5   \n15           1015526       5                0.5                        -1.7   \n16           1929897       4                0.5                        -0.8   \n17           1303185       1                0.3                        -1.4   \n18           1862456       1                0.3                        -0.8   \n19           1445987       5                0.5                        -1.3   \n\n    new rating  \n0          9.3  \n1          8.9  \n2          9.3  \n3          8.6  \n4          8.7  \n5          7.1  \n6          9.7  \n7          8.6  \n8          8.5  \n9          9.0  \n10         8.2  \n11         9.2  \n12         8.1  \n13         6.9  \n14         7.5  \n15         7.5  \n16         8.4  \n17         7.6  \n18         8.1  \n19         7.8  ",
      "text/html": "<div>\n<style scoped>\n    .dataframe tbody tr th:only-of-type {\n        vertical-align: middle;\n    }\n\n    .dataframe tbody tr th {\n        vertical-align: top;\n    }\n\n    .dataframe thead th {\n        text-align: right;\n    }\n</style>\n<table border=\"1\" class=\"dataframe\">\n  <thead>\n    <tr style=\"text-align: right;\">\n      <th></th>\n      <th>url</th>\n      <th>name</th>\n      <th>rating</th>\n      <th>Number of raters</th>\n      <th>oscars</th>\n      <th>oscar extra point</th>\n      <th>point deduction for raters</th>\n      <th>new rating</th>\n    </tr>\n  </thead>\n  <tbody>\n    <tr>\n      <th>0</th>\n      <td>https://www.imdb.com/title/tt0111161/?ref_=adv...</td>\n      <td>The Shawshank Redemption</td>\n      <td>9.3</td>\n      <td>2704345</td>\n      <td>0</td>\n      <td>0.0</td>\n      <td>0.0</td>\n      <td>9.3</td>\n    </tr>\n    <tr>\n      <th>1</th>\n      <td>https://www.imdb.com/title/tt0068646/?ref_=adv...</td>\n      <td>The Godfather</td>\n      <td>9.2</td>\n      <td>1877746</td>\n      <td>3</td>\n      <td>0.5</td>\n      <td>-0.8</td>\n      <td>8.9</td>\n    </tr>\n    <tr>\n      <th>2</th>\n      <td>https://www.imdb.com/title/tt0468569/?ref_=adv...</td>\n      <td>The Dark Knight</td>\n      <td>9.0</td>\n      <td>2678106</td>\n      <td>2</td>\n      <td>0.3</td>\n      <td>-0.0</td>\n      <td>9.3</td>\n    </tr>\n    <tr>\n      <th>3</th>\n      <td>https://www.imdb.com/title/tt0071562/?ref_=adv...</td>\n      <td>The Godfather Part II</td>\n      <td>9.0</td>\n      <td>1282538</td>\n      <td>6</td>\n      <td>1.0</td>\n      <td>-1.4</td>\n      <td>8.6</td>\n    </tr>\n    <tr>\n      <th>4</th>\n      <td>https://www.imdb.com/title/tt0108052/?ref_=adv...</td>\n      <td>Schindler's List</td>\n      <td>9.0</td>\n      <td>1366837</td>\n      <td>7</td>\n      <td>1.0</td>\n      <td>-1.3</td>\n      <td>8.7</td>\n    </tr>\n    <tr>\n      <th>5</th>\n      <td>https://www.imdb.com/title/tt0050083/?ref_=adv...</td>\n      <td>12 Angry Men</td>\n      <td>9.0</td>\n      <td>798911</td>\n      <td>0</td>\n      <td>0.0</td>\n      <td>-1.9</td>\n      <td>7.1</td>\n    </tr>\n    <tr>\n      <th>6</th>\n      <td>https://www.imdb.com/title/tt0167260/?ref_=adv...</td>\n      <td>The Lord of the Rings: The Return of the King</td>\n      <td>9.0</td>\n      <td>1861945</td>\n      <td>11</td>\n      <td>1.5</td>\n      <td>-0.8</td>\n      <td>9.7</td>\n    </tr>\n    <tr>\n      <th>7</th>\n      <td>https://www.imdb.com/title/tt0110912/?ref_=adv...</td>\n      <td>Pulp Fiction</td>\n      <td>8.9</td>\n      <td>2076221</td>\n      <td>1</td>\n      <td>0.3</td>\n      <td>-0.6</td>\n      <td>8.6</td>\n    </tr>\n    <tr>\n      <th>8</th>\n      <td>https://www.imdb.com/title/tt0120737/?ref_=adv...</td>\n      <td>The Lord of the Rings: The Fellowship of the Ring</td>\n      <td>8.8</td>\n      <td>1891368</td>\n      <td>4</td>\n      <td>0.5</td>\n      <td>-0.8</td>\n      <td>8.5</td>\n    </tr>\n    <tr>\n      <th>9</th>\n      <td>https://www.imdb.com/title/tt1375666/?ref_=adv...</td>\n      <td>Inception</td>\n      <td>8.8</td>\n      <td>2376081</td>\n      <td>4</td>\n      <td>0.5</td>\n      <td>-0.3</td>\n      <td>9.0</td>\n    </tr>\n    <tr>\n      <th>10</th>\n      <td>https://www.imdb.com/title/tt0137523/?ref_=adv...</td>\n      <td>Fight Club</td>\n      <td>8.8</td>\n      <td>2149098</td>\n      <td>0</td>\n      <td>0.0</td>\n      <td>-0.6</td>\n      <td>8.2</td>\n    </tr>\n    <tr>\n      <th>11</th>\n      <td>https://www.imdb.com/title/tt0109830/?ref_=adv...</td>\n      <td>Forrest Gump</td>\n      <td>8.8</td>\n      <td>2101149</td>\n      <td>6</td>\n      <td>1.0</td>\n      <td>-0.6</td>\n      <td>9.2</td>\n    </tr>\n    <tr>\n      <th>12</th>\n      <td>https://www.imdb.com/title/tt0167261/?ref_=adv...</td>\n      <td>The Lord of the Rings: The Two Towers</td>\n      <td>8.8</td>\n      <td>1681243</td>\n      <td>2</td>\n      <td>0.3</td>\n      <td>-1.0</td>\n      <td>8.1</td>\n    </tr>\n    <tr>\n      <th>13</th>\n      <td>https://www.imdb.com/title/tt0060196/?ref_=adv...</td>\n      <td>The Good, the Bad and the Ugly</td>\n      <td>8.8</td>\n      <td>767955</td>\n      <td>0</td>\n      <td>0.0</td>\n      <td>-1.9</td>\n      <td>6.9</td>\n    </tr>\n    <tr>\n      <th>14</th>\n      <td>https://www.imdb.com/title/tt0099685/?ref_=adv...</td>\n      <td>GoodFellas</td>\n      <td>8.7</td>\n      <td>1173086</td>\n      <td>1</td>\n      <td>0.3</td>\n      <td>-1.5</td>\n      <td>7.5</td>\n    </tr>\n    <tr>\n      <th>15</th>\n      <td>https://www.imdb.com/title/tt0073486/?ref_=adv...</td>\n      <td>One Flew Over the Cuckoo's Nest</td>\n      <td>8.7</td>\n      <td>1015526</td>\n      <td>5</td>\n      <td>0.5</td>\n      <td>-1.7</td>\n      <td>7.5</td>\n    </tr>\n    <tr>\n      <th>16</th>\n      <td>https://www.imdb.com/title/tt0133093/?ref_=adv...</td>\n      <td>The Matrix</td>\n      <td>8.7</td>\n      <td>1929897</td>\n      <td>4</td>\n      <td>0.5</td>\n      <td>-0.8</td>\n      <td>8.4</td>\n    </tr>\n    <tr>\n      <th>17</th>\n      <td>https://www.imdb.com/title/tt0080684/?ref_=adv...</td>\n      <td>Star Wars: Episode V - The Empire Strikes Back</td>\n      <td>8.7</td>\n      <td>1303185</td>\n      <td>1</td>\n      <td>0.3</td>\n      <td>-1.4</td>\n      <td>7.6</td>\n    </tr>\n    <tr>\n      <th>18</th>\n      <td>https://www.imdb.com/title/tt0816692/?ref_=adv...</td>\n      <td>Interstellar</td>\n      <td>8.6</td>\n      <td>1862456</td>\n      <td>1</td>\n      <td>0.3</td>\n      <td>-0.8</td>\n      <td>8.1</td>\n    </tr>\n    <tr>\n      <th>19</th>\n      <td>https://www.imdb.com/title/tt0102926/?ref_=adv...</td>\n      <td>The Silence of the Lambs</td>\n      <td>8.6</td>\n      <td>1445987</td>\n      <td>5</td>\n      <td>0.5</td>\n      <td>-1.3</td>\n      <td>7.8</td>\n    </tr>\n  </tbody>\n</table>\n</div>"
     },
     "execution_count": 18,
     "metadata": {},
     "output_type": "execute_result"
    }
   ],
   "source": [
    "# combine the data into one table and export it into xlsx\n",
    "data = {'url': top_20_urls, 'name': top_20_names, 'rating': top_20_rating, 'Number of raters': top_20_rater, 'oscars': top_20_oscar, 'oscar extra point': oscar_points, 'point deduction for raters': point_deduction, 'new rating': new_points}\n",
    "df = pd.DataFrame(data)\n",
    "writer = pd.ExcelWriter('Datapao_IMDB_scraper.xlsx')\n",
    "df.to_excel(writer, index=False, sheet_name='Top Movies')\n",
    "writer.save()\n",
    "df"
   ],
   "metadata": {
    "collapsed": false
   }
  },
  {
   "cell_type": "code",
   "execution_count": 19,
   "outputs": [
    {
     "name": "stdout",
     "output_type": "stream",
     "text": [
      "Data is exported, please search for Datapao_IMDB_scraper.xlsx\n"
     ]
    }
   ],
   "source": [
    "print('Data is exported, please search for Datapao_IMDB_scraper.xlsx')"
   ],
   "metadata": {
    "collapsed": false
   }
  },
  {
   "cell_type": "code",
   "execution_count": null,
   "outputs": [],
   "source": [],
   "metadata": {
    "collapsed": false
   }
  }
 ],
 "metadata": {
  "kernelspec": {
   "display_name": "Python 3",
   "language": "python",
   "name": "python3"
  },
  "language_info": {
   "codemirror_mode": {
    "name": "ipython",
    "version": 2
   },
   "file_extension": ".py",
   "mimetype": "text/x-python",
   "name": "python",
   "nbconvert_exporter": "python",
   "pygments_lexer": "ipython2",
   "version": "2.7.6"
  }
 },
 "nbformat": 4,
 "nbformat_minor": 0
}
